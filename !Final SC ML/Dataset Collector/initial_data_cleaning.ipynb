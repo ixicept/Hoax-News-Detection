{
 "cells": [
  {
   "cell_type": "code",
   "execution_count": 2,
   "id": "668b86de",
   "metadata": {},
   "outputs": [
    {
     "name": "stdout",
     "output_type": "stream",
     "text": [
      "6861\n",
      "page            0\n",
      "title          20\n",
      "url             0\n",
      "timestamp    6861\n",
      "content       444\n",
      "dtype: int64\n",
      "6861\n"
     ]
    },
    {
     "data": {
      "text/html": [
       "<div>\n",
       "<style scoped>\n",
       "    .dataframe tbody tr th:only-of-type {\n",
       "        vertical-align: middle;\n",
       "    }\n",
       "\n",
       "    .dataframe tbody tr th {\n",
       "        vertical-align: top;\n",
       "    }\n",
       "\n",
       "    .dataframe thead th {\n",
       "        text-align: right;\n",
       "    }\n",
       "</style>\n",
       "<table border=\"1\" class=\"dataframe\">\n",
       "  <thead>\n",
       "    <tr style=\"text-align: right;\">\n",
       "      <th></th>\n",
       "      <th>page</th>\n",
       "      <th>title</th>\n",
       "      <th>url</th>\n",
       "      <th>timestamp</th>\n",
       "      <th>content</th>\n",
       "    </tr>\n",
       "  </thead>\n",
       "  <tbody>\n",
       "    <tr>\n",
       "      <th>0</th>\n",
       "      <td>2</td>\n",
       "      <td>Jelang PSU Pilkada Serang, Gakkumdu Tangkap 12...</td>\n",
       "      <td>https://news.detik.com/berita/d-7875730/jelang...</td>\n",
       "      <td>NaN</td>\n",
       "      <td>Tim Gakkumdu melakukan operasi tangkap tangan ...</td>\n",
       "    </tr>\n",
       "    <tr>\n",
       "      <th>1</th>\n",
       "      <td>2</td>\n",
       "      <td>Ketika X Ditinggalkan Demi Jaga Ketenangan di ...</td>\n",
       "      <td>https://news.detik.com/berita/d-7875722/ketika...</td>\n",
       "      <td>NaN</td>\n",
       "      <td>Riuhnya platform X (atau dulu dikenal dengan T...</td>\n",
       "    </tr>\n",
       "    <tr>\n",
       "      <th>2</th>\n",
       "      <td>2</td>\n",
       "      <td>Geger Bocah Perempuan 6 Tahun Ditemukan Tewas ...</td>\n",
       "      <td>https://news.detik.com/berita/d-7875708/geger-...</td>\n",
       "      <td>NaN</td>\n",
       "      <td>Warga di Kampung Cikedokan, Cikarang Barat, Ka...</td>\n",
       "    </tr>\n",
       "    <tr>\n",
       "      <th>3</th>\n",
       "      <td>2</td>\n",
       "      <td>Viral Kaktus di Kebun Raya Bogor Dirusak, Peng...</td>\n",
       "      <td>https://news.detik.com/berita/d-7875703/viral-...</td>\n",
       "      <td>NaN</td>\n",
       "      <td>Sebuah video menunjukkan aksi vandalisme terha...</td>\n",
       "    </tr>\n",
       "    <tr>\n",
       "      <th>4</th>\n",
       "      <td>2</td>\n",
       "      <td>80 Orang Tewas di Yaman, Houthi Balas Serang K...</td>\n",
       "      <td>https://news.detik.com/internasional/d-7875702...</td>\n",
       "      <td>NaN</td>\n",
       "      <td>Kelompok Houthi melancarkan serangan balasan t...</td>\n",
       "    </tr>\n",
       "  </tbody>\n",
       "</table>\n",
       "</div>"
      ],
      "text/plain": [
       "   page                                              title  \\\n",
       "0     2  Jelang PSU Pilkada Serang, Gakkumdu Tangkap 12...   \n",
       "1     2  Ketika X Ditinggalkan Demi Jaga Ketenangan di ...   \n",
       "2     2  Geger Bocah Perempuan 6 Tahun Ditemukan Tewas ...   \n",
       "3     2  Viral Kaktus di Kebun Raya Bogor Dirusak, Peng...   \n",
       "4     2  80 Orang Tewas di Yaman, Houthi Balas Serang K...   \n",
       "\n",
       "                                                 url  timestamp  \\\n",
       "0  https://news.detik.com/berita/d-7875730/jelang...        NaN   \n",
       "1  https://news.detik.com/berita/d-7875722/ketika...        NaN   \n",
       "2  https://news.detik.com/berita/d-7875708/geger-...        NaN   \n",
       "3  https://news.detik.com/berita/d-7875703/viral-...        NaN   \n",
       "4  https://news.detik.com/internasional/d-7875702...        NaN   \n",
       "\n",
       "                                             content  \n",
       "0  Tim Gakkumdu melakukan operasi tangkap tangan ...  \n",
       "1  Riuhnya platform X (atau dulu dikenal dengan T...  \n",
       "2  Warga di Kampung Cikedokan, Cikarang Barat, Ka...  \n",
       "3  Sebuah video menunjukkan aksi vandalisme terha...  \n",
       "4  Kelompok Houthi melancarkan serangan balasan t...  "
      ]
     },
     "execution_count": 2,
     "metadata": {},
     "output_type": "execute_result"
    }
   ],
   "source": [
    "import pandas as pd\n",
    "\n",
    "df = pd.read_csv(\"detik_full_2-300.csv\")\n",
    "print(len(df))\n",
    "\n",
    "print(df.isna().sum())\n",
    "print(len(df))\n",
    "\n",
    "df.head(5)"
   ]
  },
  {
   "cell_type": "code",
   "execution_count": null,
   "id": "4493c840",
   "metadata": {},
   "outputs": [],
   "source": [
    "import pandas as pd\n",
    "\n",
    "df = pd.read_csv(\"detik_full_2-300.csv\")\n",
    "\n",
    "df = df.drop(columns=['timestamp'])\n",
    "\n",
    "df.to_csv(\"real_news.csv\", index=False)"
   ]
  },
  {
   "cell_type": "code",
   "execution_count": null,
   "id": "7370f6d3",
   "metadata": {},
   "outputs": [
    {
     "name": "stdout",
     "output_type": "stream",
     "text": [
      "                                               Title  \\\n",
      "0  TERKUAK BUKTI KPU HOBI FOYA-FOYA DAN MAKAN UAN...   \n",
      "1      Ketua KPU Hasyim Asyari Promosikan Obat Nyeri   \n",
      "2  Undian Gong Bali Dwipa Bank BPD Bali Periode 2024   \n",
      "3  Pesan WhatsApp Video Narkoba Dicampur Kedalam ...   \n",
      "4           Akun WhatsApp PJ Sekda Kab Bandung Barat   \n",
      "\n",
      "                                              Narasi  \\\n",
      "0                                                NaN   \n",
      "1                                                NaN   \n",
      "2                                                NaN   \n",
      "3  KENAPA PRODUKSIDan PENYEBARAN-Nya ADA DI BOGOR...   \n",
      "4  “Assalamualaikum wer wb pak Ryan posisinya dim...   \n",
      "\n",
      "                                          Penjelasan  category  \n",
      "0                                                NaN     SALAH  \n",
      "1                                                NaN  PENIPUAN  \n",
      "2                                                NaN  PENIPUAN  \n",
      "3  Artikel disadur dari Antaranews.\\nBeredar vide...     SALAH  \n",
      "4  Artikel disadur dari akun Instagram Dikominfo ...  PENIPUAN  \n"
     ]
    }
   ],
   "source": [
    "import pandas as pd\n",
    "\n",
    "df = pd.read_csv(\"hoax_final.csv\")\n",
    "\n",
    "df[\"category\"] = df[\"Title\"].str.extract(r\"\\[([^\\]]+)\\]\")\n",
    "\n",
    "df[\"Title\"] = df[\"Title\"].str.replace(r\"\\[[^\\]]+\\]\\s*\", \"\", regex=True)\n",
    "\n",
    "print(df.head())\n",
    "\n",
    "df.to_csv(\"hoax_final_with_category.csv\", index=False)\n"
   ]
  },
  {
   "cell_type": "code",
   "execution_count": 5,
   "id": "abdf1a5d",
   "metadata": {},
   "outputs": [],
   "source": [
    "df.head(5)\n",
    "\n",
    "df[\"category\"].value_counts()\n",
    "df.dropna(inplace=True)\n",
    "df[\"category\"].value_counts()\n",
    "\n",
    "filtered_df = df[df[\"category\"].str.upper().isin([\"SALAH\", \"BENAR\", \"HOAX\", \"PENIPUAN\", \"DISINFORMASI\"])]\n",
    "filtered_df.to_csv(\"hoax_news.csv\", index=False)\n"
   ]
  },
  {
   "cell_type": "code",
   "execution_count": 6,
   "id": "75f8f4af",
   "metadata": {},
   "outputs": [
    {
     "name": "stdout",
     "output_type": "stream",
     "text": [
      "5379\n"
     ]
    },
    {
     "data": {
      "text/plain": [
       "Title         0\n",
       "Narasi        0\n",
       "Penjelasan    0\n",
       "category      0\n",
       "dtype: int64"
      ]
     },
     "execution_count": 6,
     "metadata": {},
     "output_type": "execute_result"
    }
   ],
   "source": [
    "df = pd.read_csv(\"hoax_news.csv\")\n",
    "\n",
    "\n",
    "print(len(df))\n",
    "df.isna().sum()"
   ]
  },
  {
   "cell_type": "code",
   "execution_count": 8,
   "id": "b7b1bae6",
   "metadata": {},
   "outputs": [
    {
     "name": "stdout",
     "output_type": "stream",
     "text": [
      "6861\n",
      "page         0\n",
      "title       20\n",
      "url          0\n",
      "content    444\n",
      "dtype: int64\n",
      "page       0\n",
      "title      0\n",
      "url        0\n",
      "content    0\n",
      "dtype: int64\n",
      "6417\n"
     ]
    }
   ],
   "source": [
    "df = pd.read_csv(\"real_news.csv\")\n",
    "print(len(df))\n",
    "\n",
    "print(df.isna().sum())\n",
    "\n",
    "df = df.dropna()\n",
    "\n",
    "print(df.isna().sum())\n",
    "\n",
    "print(len(df))\n",
    "\n",
    "\n",
    "df.head(20)\n",
    "\n",
    "df.to_csv(\"detik_news.csv\", index=False)"
   ]
  }
 ],
 "metadata": {
  "kernelspec": {
   "display_name": "nlp",
   "language": "python",
   "name": "python3"
  },
  "language_info": {
   "codemirror_mode": {
    "name": "ipython",
    "version": 3
   },
   "file_extension": ".py",
   "mimetype": "text/x-python",
   "name": "python",
   "nbconvert_exporter": "python",
   "pygments_lexer": "ipython3",
   "version": "3.9.21"
  }
 },
 "nbformat": 4,
 "nbformat_minor": 5
}
